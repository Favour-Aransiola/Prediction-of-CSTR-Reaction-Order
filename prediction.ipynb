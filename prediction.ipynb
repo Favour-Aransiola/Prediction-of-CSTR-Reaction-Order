{
  "cells": [
    {
      "cell_type": "markdown",
      "metadata": {
        "id": "view-in-github",
        "colab_type": "text"
      },
      "source": [
        "<a href=\"https://colab.research.google.com/github/Favour-Aransiola/Prediction-of-CSTR-Reaction-Order/blob/main/prediction.ipynb\" target=\"_parent\"><img src=\"https://colab.research.google.com/assets/colab-badge.svg\" alt=\"Open In Colab\"/></a>"
      ]
    },
    {
      "cell_type": "markdown",
      "source": [
        "# **Predicting Reaction Order From CSTR Process Data**"
      ],
      "metadata": {
        "id": "U-a3XikYEKdi"
      }
    },
    {
      "cell_type": "markdown",
      "source": [
        "Data Features: Concentration of A in the inlet flow, Temperature of the inlet flow, Temperature of the inlet coolant flow, Coolant flow-rate, Concentration of B in the outlet flow, Temperature of the outlet flow, Temperature of the outlet coolant flow."
      ],
      "metadata": {
        "id": "0P_N6lHFDqsc"
      }
    },
    {
      "cell_type": "code",
      "source": [
        "import numpy as np\n",
        "import pandas as pd\n"
      ],
      "metadata": {
        "id": "C0NAxjlf9CdL"
      },
      "execution_count": 1,
      "outputs": []
    },
    {
      "cell_type": "code",
      "source": [
        "control_data =np.load('./cstr_rawdata.npy')\n"
      ],
      "metadata": {
        "id": "dCLspEGS9GMS"
      },
      "execution_count": 18,
      "outputs": []
    },
    {
      "cell_type": "code",
      "source": [
        "two_hundred_minute_data = control_data[:,1393:1400]\n",
        "class_labels = control_data[:,1400]\n",
        "domain_labels = control_data[:,1401]\n",
        "noise=control_data[:,1402]\n",
        "rxn_order = control_data[:,1403]\n",
        "\n",
        "\n",
        "rxn_order = np.reshape(rxn_order,(-1,1))"
      ],
      "metadata": {
        "id": "vF79ckjn_Qnp"
      },
      "execution_count": 43,
      "outputs": []
    },
    {
      "cell_type": "code",
      "source": [
        "# Adding the feature to the label for complete dataset\n",
        "dataset = np.concat([two_hundred_minute_data,rxn_order],axis=1)\n"
      ],
      "metadata": {
        "id": "FfPOPHNiExKm"
      },
      "execution_count": 45,
      "outputs": []
    },
    {
      "cell_type": "code",
      "source": [
        "df =pd.DataFrame(dataset,columns=['Concentration of A in the inlet flow', 'Temperature of the inlet flow', 'Temperature of the inlet coolant flow', 'Coolant flow-rate', 'Concentration of B in the outlet flow', 'Temperature of the outlet flow', 'Temperature of the outlet coolant flow','Reaction Order'])\n",
        "df['Reaction Order'].value_counts()"
      ],
      "metadata": {
        "colab": {
          "base_uri": "https://localhost:8080/",
          "height": 241
        },
        "id": "O_kRQ-KBEmDB",
        "outputId": "69e364c5-5a15-4337-baa5-ee94ebc3fe87"
      },
      "execution_count": 48,
      "outputs": [
        {
          "output_type": "execute_result",
          "data": {
            "text/plain": [
              "Reaction Order\n",
              "1.0    2080\n",
              "0.5     260\n",
              "1.5     260\n",
              "2.0     260\n",
              "Name: count, dtype: int64"
            ],
            "text/html": [
              "<div>\n",
              "<style scoped>\n",
              "    .dataframe tbody tr th:only-of-type {\n",
              "        vertical-align: middle;\n",
              "    }\n",
              "\n",
              "    .dataframe tbody tr th {\n",
              "        vertical-align: top;\n",
              "    }\n",
              "\n",
              "    .dataframe thead th {\n",
              "        text-align: right;\n",
              "    }\n",
              "</style>\n",
              "<table border=\"1\" class=\"dataframe\">\n",
              "  <thead>\n",
              "    <tr style=\"text-align: right;\">\n",
              "      <th></th>\n",
              "      <th>count</th>\n",
              "    </tr>\n",
              "    <tr>\n",
              "      <th>Reaction Order</th>\n",
              "      <th></th>\n",
              "    </tr>\n",
              "  </thead>\n",
              "  <tbody>\n",
              "    <tr>\n",
              "      <th>1.0</th>\n",
              "      <td>2080</td>\n",
              "    </tr>\n",
              "    <tr>\n",
              "      <th>0.5</th>\n",
              "      <td>260</td>\n",
              "    </tr>\n",
              "    <tr>\n",
              "      <th>1.5</th>\n",
              "      <td>260</td>\n",
              "    </tr>\n",
              "    <tr>\n",
              "      <th>2.0</th>\n",
              "      <td>260</td>\n",
              "    </tr>\n",
              "  </tbody>\n",
              "</table>\n",
              "</div><br><label><b>dtype:</b> int64</label>"
            ]
          },
          "metadata": {},
          "execution_count": 48
        }
      ]
    }
  ],
  "metadata": {
    "colab": {
      "provenance": [],
      "authorship_tag": "ABX9TyPkEykhTLT2EYQzunpkird/",
      "include_colab_link": true
    },
    "kernelspec": {
      "display_name": "Python 3",
      "name": "python3"
    },
    "language_info": {
      "name": "python"
    }
  },
  "nbformat": 4,
  "nbformat_minor": 0
}